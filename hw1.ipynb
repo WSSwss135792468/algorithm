{
 "cells": [
  {
   "cell_type": "markdown",
   "metadata": {},
   "source": [
    "## algorithm design and anlysis-2025 spring  homework 1 \n",
    "**Deadline**：2025.5.14\n",
    "\n",
    "**name**:\n",
    "\n",
    "\n",
    "note：\n",
    "---\n",
    "1. 带有\\*的题目，申请免上课的同学，必须完成，其他同学选作；\n",
    "2. 请独立完成，如求助了他人或者大模型，请著明，并且不可省略算法分析部分；\n",
    "4. 如若作答有雷同，全部取消成绩；\n",
    "3. 需要书面作答的题目，可以通过引用图片的形式添加，但是注意上传项目时包含所引用的图片的源文件；\n",
    "4. $log_n$ 默认表示$log_2{n}$;"
   ]
  },
  {
   "cell_type": "markdown",
   "metadata": {},
   "source": [
    "## 问题 1\n",
    "\n",
    "对于下面的每一对表达式(A, B), A是否能表示为B的 $\\Theta, \\Omega ,O$形式. 请注意, 这些关系中的零个、一个或多个可能成立。列出所有正确的。经常发生一些学生会,把指示写错, 所以请把关系写完整, 例如: $A = O(B),  A =\\Theta(B)$, 或$A = \\Omega(B)$。\n",
    "\n",
    "1. $A=n^2-100n, B=n^2$\n",
    "2. $A=logn, B=log_{1.2}n$\n",
    "3. $A=3^{2n}, B=2^{4n}$\n",
    "4. $A=2^{logn}, B=n$\n",
    "5. $A=\\log{\\log}{n},B=10^{10^{100}}$"
   ]
  },
  {
   "cell_type": "markdown",
   "metadata": {},
   "source": [
    "### 解答：\n",
    "  $O$：渐进上界（$\\leq$)，$\\Omega$：渐进下界（$\\geq$)，$\\Theta$：确界，需同时满足$O$和$\\Omega$"
   ]
  },
  {
   "cell_type": "markdown",
   "metadata": {},
   "source": [
    "1. $A=n^2-100n, B=n^2$"
   ]
  },
  {
   "cell_type": "code",
   "execution_count": null,
   "metadata": {},
   "outputs": [],
   "source": []
  },
  {
   "cell_type": "markdown",
   "metadata": {},
   "source": [
    " $A = O(B),  A =\\Theta(B)$, 或$A = \\Omega(B)$。\n",
    "\n",
    "1. $A=n^2-100n, B=n^2$\n",
    "2. $A=logn, B=log_{1.2}n$\n",
    "3. $A=3^{2n}, B=2^{4n}$\n",
    "4. $A=2^{logn}, B=n$\n",
    "5. $A=\\log{\\log}{n},B=10^{10^{100}}$"
   ]
  },
  {
   "cell_type": "markdown",
   "metadata": {},
   "source": [
    "## 问题 2：\n",
    "\n",
    "假设有函数 $f$ 和 $g$ 使得 $f(n)$ = $O(g(n))$ 对于下面的每一个陈述, 请判断对错, 如果正确请给出证明, 否则请给出一个反例。\n",
    "\n",
    "1. $\\log{f(n)}$ = $O(\\log(1+g(n)))$\n",
    "2. $3^{f(n)}=O(3^{g(n)})$\n",
    "3. $(f(n))^2=O((g(n))^2)$ "
   ]
  },
  {
   "cell_type": "markdown",
   "metadata": {},
   "source": [
    "you can refer a handwritten picture, pleas upload the picture in /fig/xxx.png\n",
    "answer:"
   ]
  },
  {
   "cell_type": "markdown",
   "metadata": {},
   "source": [
    "## 问题 3\n",
    "\n",
    "根据下列递归公式, 计算下列 $T(n)$ 对应的的渐近上界。要求所求的边界尽可能的紧（tight）, 请写明步骤。\n",
    "\n",
    "1. $T(1)=1; T(n)=T(n/4)+1$ for $n>1$\n",
    "2. $T(1)=1;T(n)=3T(n/3)+n^2$ for $n>1$\n",
    "3. $T(1)=1;T(n)=T(2n/3)+1$ for $n>1$\n",
    "4. $T(1)=1;T(n)=5T(n/4)+n$ for $n>1$\n",
    "5. $T(n)=1 \\ for\\ n \\le 2 ; T(n)=T(\\sqrt{n})+1 \\ for \\ n>2$"
   ]
  },
  {
   "cell_type": "markdown",
   "metadata": {},
   "source": [
    "can refer a handwritten picture, pleas upload the picture in /fig/xxx.png\n",
    "answer:"
   ]
  },
  {
   "cell_type": "markdown",
   "metadata": {},
   "source": [
    "## 问题 4：\n",
    "\n",
    "给定一个包含n个元素的数组 `profits` , 它的第 `i` 个元素 `profits[i]` 表示一支股票第 `i` 天的**收益**（正数表示涨, 负数表示跌）。你只能选择 **某一天** 买入这只股票, 并选择在 **未来的某一个不同的日子** 卖出该股票。\n",
    "\n",
    "1. 设计一个算法来计算你所能获取的最大利润和对应买入和卖出的日期。请分析算法方案, 计算其时间复杂度, 并且使用python编程实现该算法。\n",
    "\n",
    "2. \\* 设计一个时间复杂度为 $O(n)$的算法实现该算法\n",
    "\n",
    "e.g. :\n",
    "---\n",
    "profits=[3,2,1,-7,5,2,-1,3,-1], 第5天买入, 第8天卖出, 收益最大：9\n",
    "\n"
   ]
  },
  {
   "cell_type": "markdown",
   "metadata": {},
   "source": [
    "idea:"
   ]
  },
  {
   "cell_type": "code",
   "execution_count": 7,
   "metadata": {},
   "outputs": [
    {
     "name": "stdout",
     "output_type": "stream",
     "text": [
      "profits=[3, 2, 1, -7, 5, 2, -1, 3, -1], 第5天买入, 第8天卖出, 收益最大:9\n"
     ]
    }
   ],
   "source": [
    "def a1(profits):\n",
    "    n = len(profits)\n",
    "    max_profit = 0\n",
    "    best_i, best_j = None, None\n",
    "\n",
    "    for i in range(n - 1):\n",
    "        diff = profits[i]\n",
    "        for j in range(i + 1, n):\n",
    "            diff += profits[j] \n",
    "            if diff > max_profit:\n",
    "                max_profit = diff\n",
    "                best_i, best_j = i, j\n",
    "\n",
    "    return max_profit, best_i+1, best_j+1\n",
    "\n",
    "profits = [3, 2, 1, -7, 5, 2, -1, 3, -1]\n",
    "res = a1(profits)\n",
    "print(f\"profits={profits}, 第{res[1]}天买入, 第{res[2]}天卖出, 收益最大:{res[0]}\")"
   ]
  },
  {
   "cell_type": "code",
   "execution_count": 8,
   "metadata": {},
   "outputs": [
    {
     "name": "stdout",
     "output_type": "stream",
     "text": [
      "profits=[3, 2, 1, -7, 5, 2, -1, 3, -1], 第5天买入, 第8天卖出, 收益最大:9\n"
     ]
    }
   ],
   "source": [
    "def a2(profits):\n",
    "    best = float('-inf')\n",
    "    cur_sum = 0\n",
    "    start = 0        \n",
    "    buy = sell = 0   \n",
    "\n",
    "    for j, x in enumerate(profits):\n",
    "        if cur_sum < 0:\n",
    "            cur_sum = x\n",
    "            start = j\n",
    "        else:\n",
    "            cur_sum += x\n",
    "\n",
    "        if cur_sum > best:\n",
    "            best = cur_sum\n",
    "            buy, sell = start, j\n",
    "\n",
    "    return best, buy+1, sell+1\n",
    "\n",
    "profits = [3, 2, 1, -7, 5, 2, -1, 3, -1]\n",
    "res = a2(profits)\n",
    "print(f\"profits={profits}, 第{res[1]}天买入, 第{res[2]}天卖出, 收益最大:{res[0]}\")"
   ]
  },
  {
   "cell_type": "markdown",
   "metadata": {},
   "source": [
    "## 问题 5：\n",
    "\n",
    "观察下方的分治算法（divide-and-conquer algorithm）的伪代码, 回答下面问题\n",
    "\n",
    "```latex\n",
    "DoSomething(A,p,r)\n",
    "-----\n",
    "n := r-p+1\n",
    "if n=2 and A[p]>A[r] then\n",
    "    swap A[p] and A[r]\n",
    "else if n >= 3 then\n",
    "    m = ceil(2n/3)\n",
    "    DoSomething(A,p,p+m-1)\n",
    "    DoSomething(A,r-m+1,r)\n",
    "    DoSomething(A,p,p+m-1)  \n",
    "    \n",
    "---\n",
    "first call: DoSomething(A,1,n)\n",
    "```\n",
    "\n",
    "note：$ceil(2n/3)=\\left\\lceil {2n/3} \\right\\rceil$；$:=$ 表示赋值, 等价于 $\\to$；A是一个包含n的整数元素的数组, \n",
    "\n",
    "1. 写出该算法时间复杂度的递归公式, 并求解其对应的渐进表示\n",
    "2. 描述一下该算法的功能, 并判断是否是最高效的解决方案\n",
    "3. 使用python编程实现上述算法或其对应的更高效版本的算法\n"
   ]
  },
  {
   "cell_type": "markdown",
   "metadata": {},
   "source": [
    "idea："
   ]
  },
  {
   "cell_type": "markdown",
   "metadata": {},
   "source": [
    "answer:"
   ]
  },
  {
   "cell_type": "code",
   "execution_count": 11,
   "metadata": {},
   "outputs": [
    {
     "name": "stdout",
     "output_type": "stream",
     "text": [
      "[1, 2, 3, 4, 5, 8]\n"
     ]
    }
   ],
   "source": [
    "import math\n",
    "\n",
    "def DoSomething(A, p=0, r=None):\n",
    "    if r is None:\n",
    "        r = len(A) - 1\n",
    "    n = r - p + 1\n",
    "    if n == 2:\n",
    "        if A[p] > A[r]:\n",
    "            A[p], A[r] = A[r], A[p]\n",
    "    elif n > 2:\n",
    "        m = math.ceil(2 * n / 3)\n",
    "        DoSomething(A, p, p + m - 1)\n",
    "        DoSomething(A, r - m + 1, r)\n",
    "        DoSomething(A, p, p + m - 1)\n",
    "\n",
    "arr1 = [5, 3, 2, 8, 1, 4]\n",
    "DoSomething(arr1)\n",
    "print(arr1)"
   ]
  },
  {
   "cell_type": "markdown",
   "metadata": {},
   "source": [
    "## 问题 6：\n",
    "\n",
    "给定一个大小为 `n` 的数组 `nums` , 返回其中的多数元素。多数元素是指在数组中出现次数 **大于** `⌊ n/2 ⌋` 的元素。\n",
    "\n",
    "你可以假设数组是非空的, 并且给定的数组总是存在多数元素。\n",
    "\n",
    "1. 设计一个算法找到给定数组的多数元素, 分析算法设计思路, 计算算法时间复杂度, 使用python编程实现\n",
    "2. \\* 设计时间复杂度为 O(n)、空间复杂度为 O(1) 的算法解决此问题, 分析算法设计思路, 使用python编程实现\n",
    "\n",
    "e.g.:\n",
    "---\n",
    "1. nums=[3,2,3], 返回3\n",
    "2. nums=[2,2,1,1,1,2,2], 返回2\n"
   ]
  },
  {
   "cell_type": "markdown",
   "metadata": {},
   "source": [
    "idea："
   ]
  },
  {
   "cell_type": "code",
   "execution_count": 12,
   "metadata": {},
   "outputs": [
    {
     "name": "stdout",
     "output_type": "stream",
     "text": [
      "输入：nums=[3, 2, 3], 返回：3\n",
      "输入：nums=[2, 2, 1, 1, 1, 2, 2], 返回：2\n"
     ]
    }
   ],
   "source": [
    "def a1(nums):\n",
    "    n = len(nums)\n",
    "    threshold = n // 2\n",
    "    cnt = {}\n",
    "    for x in nums:\n",
    "        cnt[x] = cnt.get(x, 0) + 1\n",
    "        if cnt[x] > threshold:\n",
    "            return x\n",
    "examples = [\n",
    "    [3,2,3],\n",
    "    [2,2,1,1,1,2,2]\n",
    "]\n",
    "for nums in examples:\n",
    "    res = a1(nums)\n",
    "    print(f\"输入：nums={nums}, 返回：{res}\")"
   ]
  },
  {
   "cell_type": "markdown",
   "metadata": {},
   "source": [
    "idea for 2\\*："
   ]
  },
  {
   "cell_type": "code",
   "execution_count": 13,
   "metadata": {},
   "outputs": [
    {
     "name": "stdout",
     "output_type": "stream",
     "text": [
      "输入：nums=[3, 2, 3], 返回：3\n",
      "输入：nums=[2, 2, 1, 1, 1, 2, 2], 返回：2\n"
     ]
    }
   ],
   "source": [
    "# algorithm time complexity：O(n), space complexity:O(1)\n",
    "def a2(nums):\n",
    "    candidate = None\n",
    "    count = 0\n",
    "    for x in nums:\n",
    "        if count == 0:\n",
    "            candidate = x\n",
    "            count = 1\n",
    "        elif x == candidate:\n",
    "            count += 1\n",
    "        else:\n",
    "            count -= 1\n",
    "    return candidate\n",
    "\n",
    "examples = [\n",
    "    [3,2,3],\n",
    "    [2,2,1,1,1,2,2]\n",
    "]\n",
    "for nums in examples:\n",
    "    res = a2(nums)\n",
    "    print(f\"输入：nums={nums}, 返回：{res}\")"
   ]
  },
  {
   "cell_type": "markdown",
   "metadata": {},
   "source": [
    "## 问题 7：\n",
    "\n",
    "给定一个包含不同整数元素的数组 $ A[1..n]$ ,并且满足条件：$A[1]>A[2]$ 并且 $A[n-1]<A[n]$; 规定：如果一个元素比它两边的邻居元素都小, 即：$A[x]<A[x-1], A[x]<A[x+1]$ , 称这个元素A[x]为“局部最小”。通过遍历一次数组, 我们可以很容易在 $O(n)$的时间复杂度下找到一个局部最小值, \n",
    "\n",
    "\n",
    "1. 分析该问题, 设计一个算法在$O(logn)$的时间复杂度下找到一个局部最小(返回数值), 要求：分析算法设计思路, 并且使用python编程实现\n",
    "2. \\* 设计算法找出所有局部最小值, 分析算法设计思路, 并使用python编程实现\n",
    "\n",
    "e.g.:\n",
    "---\n",
    "A=[9, 3, 7, 2, 1, 4, 5 ] 时,  局部最小元素为 3, 1\n"
   ]
  },
  {
   "cell_type": "markdown",
   "metadata": {},
   "source": [
    "idea："
   ]
  },
  {
   "cell_type": "code",
   "execution_count": 15,
   "metadata": {},
   "outputs": [
    {
     "name": "stdout",
     "output_type": "stream",
     "text": [
      "A=[9, 3, 7, 2, 1, 4, 5]时, 找到一个局部最小元素为：1\n",
      "A=[4, 3, 7, 2, 5]时, 找到一个局部最小元素为：3\n"
     ]
    }
   ],
   "source": [
    "def a1(A):\n",
    "    left, right = 0, len(A)-1\n",
    "    while left <= right:\n",
    "        m = (left + right) // 2\n",
    "        if m == 0:\n",
    "            left = 1\n",
    "            continue\n",
    "        if m == len(A)-1:\n",
    "            right = len(A)-2\n",
    "            continue\n",
    "\n",
    "        if A[m] < A[m-1] and A[m] < A[m+1]:\n",
    "            return A[m]\n",
    "        if A[m] > A[m-1]:\n",
    "            right = m - 1\n",
    "        else:\n",
    "            left = m + 1\n",
    "    return None\n",
    "\n",
    "examples = [\n",
    "    [9, 3, 7, 2, 1, 4, 5 ] ,\n",
    "    [4, 3, 7, 2, 5] \n",
    "]\n",
    "for nums in examples:\n",
    "    res = a1(nums)\n",
    "    print(f\"A={nums}时, 找到一个局部最小元素为：{res}\")"
   ]
  },
  {
   "cell_type": "markdown",
   "metadata": {},
   "source": [
    "idea2:直接一次线性扫描，检查每个位置是否满足条件，满足则记录"
   ]
  },
  {
   "cell_type": "code",
   "execution_count": 17,
   "metadata": {},
   "outputs": [
    {
     "name": "stdout",
     "output_type": "stream",
     "text": [
      "A=[9, 3, 7, 2, 1, 4, 5]时, 所有局部最小元素为：[3, 1]\n",
      "A=[4, 3, 7, 2, 5]时, 所有局部最小元素为：[3, 2]\n"
     ]
    }
   ],
   "source": [
    "def a2(A):\n",
    "    n = len(A)\n",
    "    res = []\n",
    "    for i in range(1, n-1):\n",
    "        if A[i] < A[i-1] and A[i] < A[i+1]:\n",
    "            res.append(A[i])\n",
    "    return res\n",
    "\n",
    "examples = [\n",
    "    [9, 3, 7, 2, 1, 4, 5 ] ,\n",
    "    [4, 3, 7, 2, 5] \n",
    "]\n",
    "for nums in examples:\n",
    "    res = a2(nums)\n",
    "    print(f\"A={nums}时, 所有局部最小元素为：{res}\")"
   ]
  },
  {
   "cell_type": "markdown",
   "metadata": {},
   "source": [
    "## 问题 8：\n",
    "\n",
    "给定包含n个不同数字的一组数, 寻找一种基于比较的算法在这组数中找到k个最小的数字, 并按顺序输出它们。\n",
    "\n",
    "1. 将n个数先进行排序, 然后按顺序输出最小的k个数。要求：选择合适的排序算法实现上述操作, 计算算法时间复杂度, 并使用python编程实现。\n",
    "2. 建立一个包含这n个数的堆（heap）, 并且调用 k 次Extract-min 按顺序输出最小的k个数。使用往空堆中不断插入元素的方法建立堆, 分析这种方法建堆的时间复杂度, 并使用python编程实现\n",
    "3. \\* 假设数组中包含的数据总数目超过了计算机的存储能力, 请设计一个算法, 找到这堆数据的前k小的数值, 计算时间复杂度, 并使用python实现该算法, 假设计算机一定能存储k个数据。\n",
    "\n",
    "e.g.：\n",
    "---\n",
    "数组arr=[5,4,3,2,6,1,88,33,22,107] 的前3个最小数据为：1, 2, 3\n"
   ]
  },
  {
   "cell_type": "markdown",
   "metadata": {},
   "source": [
    "idea："
   ]
  },
  {
   "cell_type": "markdown",
   "metadata": {},
   "source": [
    "1：先对整个数组进行快速排序，然后直接取出最前面的 k 个即可，最后按顺序输出。时间复杂度为：O(nlogn)"
   ]
  },
  {
   "cell_type": "code",
   "execution_count": 19,
   "metadata": {},
   "outputs": [
    {
     "name": "stdout",
     "output_type": "stream",
     "text": [
      "数组arr=[5, 4, 3, 2, 6, 1, 88, 33, 22, 107] 的前3个最小数据为： [1, 2, 3]\n"
     ]
    }
   ],
   "source": [
    "def a1(arr, k):\n",
    "    if k <= 0:\n",
    "        return []\n",
    "    arr_sorted = sorted(arr)\n",
    "    return arr_sorted[:k]\n",
    "\n",
    "arr = [5,4,3,2,6,1,88,33,22,107]\n",
    "print(f\"数组arr={arr} 的前3个最小数据为：\", a1(arr, 3))  "
   ]
  },
  {
   "cell_type": "markdown",
   "metadata": {},
   "source": [
    "2:时间复杂度：O(nlogn+klogn)=O((n+k)logn)"
   ]
  },
  {
   "cell_type": "code",
   "execution_count": 25,
   "metadata": {},
   "outputs": [
    {
     "name": "stdout",
     "output_type": "stream",
     "text": [
      "数组arr=[5, 4, 3, 2, 6, 1, 88, 33, 22, 107] 的前3个最小数据为： [1, 2, 3]\n"
     ]
    }
   ],
   "source": [
    "def a2(arr, k):\n",
    "    if k <= 0:\n",
    "        return []\n",
    "    h = []\n",
    "    for x in arr:\n",
    "        heapq.heappush(h, x)\n",
    "    res = []\n",
    "    for _ in range(min(k, len(arr))):\n",
    "        res.append(heapq.heappop(h))\n",
    "    return res\n",
    "\n",
    "arr = [5,4,3,2,6,1,88,33,22,107]\n",
    "print(f\"数组arr={arr} 的前3个最小数据为：\", a2(arr, 3))  "
   ]
  },
  {
   "cell_type": "code",
   "execution_count": 26,
   "metadata": {},
   "outputs": [
    {
     "name": "stdout",
     "output_type": "stream",
     "text": [
      "数组arr=[5, 4, 3, 2, 6, 1, 88, 33, 22, 107] 的前3个最小数据为： [1, 2, 3]\n"
     ]
    }
   ],
   "source": [
    "import heapq\n",
    "\n",
    "def a3(arr, k):\n",
    "    if k <= 0:\n",
    "        return []\n",
    "    h_max = [-x for x in arr[:k]]\n",
    "    heapq.heapify(h_max)\n",
    "    for x in arr[k:]:\n",
    "        if x < -h_max[0]:\n",
    "            heapq.heappushpop(h_max, -x)\n",
    "    res = [-y for y in h_max]\n",
    "    res.sort()\n",
    "    return res\n",
    "\n",
    "arr = [5,4,3,2,6,1,88,33,22,107]\n",
    "print(f\"数组arr={arr} 的前3个最小数据为：\", a3(arr, 3))  "
   ]
  },
  {
   "cell_type": "markdown",
   "metadata": {},
   "source": [
    "## 问题 9：\n",
    "\n",
    "**选择问题**:给定一个包含n个未排序值的数组A和一个$k≤n$的整数, 返回A中最小的第k项。\n",
    "\n",
    "在课堂上, 学了一个简单的O(n)随机算法来解决选择问题。事实上还有一种更复杂的最坏情况下时间复杂度为$O(n)$ 的选择算法。假设使用一个黑盒过程来实现这个O(n)选择算法: 给定一个数组A、 $p < r$ 和 k,  $BB(A, p, r, k)$ 可以在$O(r−p+ 1)$时间内找到并报告$A[p..r]$中第k小的项的下标。假设你可以在线性时间内处理Partition过程。\n",
    "\n",
    "1. 请分析如何修改 Quicksork 算法可以使其最差情况下的运行时间为 $O(nlogn)$, 使用伪代码实现, 并分析为何修改后的版本最差情况的运行时间为$O(nlogn)$\n",
    "\n",
    "note: 伪代码中, 你可以直接调用用` BB(A,p,r,k)`这个函数用于表示在最坏情况下时间复杂度为$O(n)$的选择算法；\n",
    "\n",
    "\n",
    "\n",
    "2. 找到一个更好的算法报告数组A中的前k小的项, 使用伪代码表示你的算法, 并分析你算法的时间复杂度。\n",
    "\n",
    "举例：A=[13, 3, 7, 9, 11, 1, 15, 2, 8, 10, 12, 16, 14, 5], 当k=4时, 应该报告1, 2, 3, 4\n",
    "\n",
    "note： 最直观的方法就是先将数组A排序, 然后从左向右报告其前k项, 这样操作的时间复杂度为$O(nlogn)$. 调用用` BB(A,p,r,k)`设计一个算法使其报告无序数组A的前k项, 满足时间复杂度好于$\\Theta(nlogn)$, 并且当$k=\\sqrt{n}$时, 你设计的算法时间复杂度应该为$\\Theta(n)$.\n",
    "\n",
    "\n",
    "\n",
    "3. 给定一个大小为n的数组, 找到一个 时间复杂度为$O(n log k)$ 的算法, 该算法将A中的元素重新排序, 使它们被划分为k个部分, 每个部分的元素小于或等于下一部分的元素。假设n和k都是2的幂。使用伪代码表示你的算法, 并分析时间复杂度。\n",
    "\n",
    "e.g.:\n",
    "---\n",
    "数组：[1,  3,  5,  7,  9,  11,  13,  15,  2,  4,  6,  8,  10,  12,  16,  14], k=4, \n",
    "\n",
    "对应重新排序的数组为：[1,  3,  2,  4]  [7,  6,  5,  8]  [12,  11,  10,  9]  [13,  14,  16,  15]\n",
    "\n",
    "\n"
   ]
  },
  {
   "cell_type": "markdown",
   "metadata": {},
   "source": [
    "1:每一层递归对长度为 n 的子问题，先调用 BB 和 Partition 共 O(n)，然后分成两段长度 ≤n/2 ；\n",
    "递归式：T(n)=2T(n/2)+O(n),解得 T(n)=Θ(nlogn)。因此最坏情况也能保证O(nlogn)"
   ]
  },
  {
   "cell_type": "raw",
   "metadata": {},
   "source": [
    "ModifiedQuickSort(A, p, r):\n",
    "    if p < r:\n",
    "        m = floor((r-p+2)/2)                   # 中位数的秩\n",
    "        idx = BB(A, p, r, m)                   # 最坏 O(r-p+1)\n",
    "        swap A[p] ↔ A[idx]                     # 将中位数放到 A[p]\n",
    "        q = Partition(A, p, r)                # 线性时间划分，返回枢轴新位置\n",
    "        ModifiedQuickSort(A, p, q-1)\n",
    "        ModifiedQuickSort(A, q+1, r)\n"
   ]
  },
  {
   "cell_type": "markdown",
   "metadata": {},
   "source": [
    "idea："
   ]
  },
  {
   "cell_type": "code",
   "execution_count": null,
   "metadata": {},
   "outputs": [],
   "source": [
    "# add your pseudo-code here"
   ]
  },
  {
   "cell_type": "code",
   "execution_count": null,
   "metadata": {},
   "outputs": [],
   "source": []
  },
  {
   "cell_type": "markdown",
   "metadata": {},
   "source": [
    "3:要求把长度 n 的 A 就地重排，使它分成 k 段（每段长 n/k），且第 i 段的所有元素都 ≤ 第 (i+1) 段的所有元素。\n",
    "可以用“递归二分”的思想——不断用中位秩（或者更一般的 k-分位）做切分，每次把段数减半，最终深度 log k。"
   ]
  },
  {
   "cell_type": "markdown",
   "metadata": {},
   "source": [
    "PartitionK(A, p, r, k):\n",
    "    # 将 A[p..r] 重排成 k 段，假设 k 是 2 的幂，且 r-p+1 可整除 k\n",
    "    if k == 1:\n",
    "        return\n",
    "    # 把这段分成左右两半，各包含 k/2 段\n",
    "    half = k // 2\n",
    "    # 找到第 (r-p+2)/2 小元素作“枢轴”\n",
    "    mid_rank = (r - p + 2) // 2\n",
    "    idx = BB(A, p, r, mid_rank)\n",
    "    swap A[p] ↔ A[idx]\n",
    "    q = Partition(A, p, r)        # 线性划分，左边正好有 n/2 个元素\n",
    "    # 递归把左右两块各自再分成 half 段\n",
    "    PartitionK(A, p,   q-1, half)\n",
    "    PartitionK(A, q+1, r,   half)\n"
   ]
  },
  {
   "cell_type": "markdown",
   "metadata": {},
   "source": [
    "## 问题 10：\n",
    "\n",
    "给定一个包含m个**字符串**的数组A, 其中不同的字符串可能有不同的字符数, 但数组中所有字符串的字符总数为n。设计一个算法在 $O(n)$ 时间内对字符串进行排序, 分析算法设计方案, 计算其时间复杂度, 并基于python编程实现该算法。请注意, 假设字符串只包含\"a\",\"b\",...,\"z\", \n",
    "\n",
    "\n",
    "\n",
    "举例1：数组A=[\"a\", \"da\", \"bde\", \"ab\", \"bc\", \"abdc\", \"cdba\"], 排序后的数组应该为：['a', 'ab', 'abdc', 'bc', 'bde', 'cdba', 'da']\n",
    "\n",
    "\n",
    "\n",
    "举例2：数组A=['ab', 'a', 'b', 'abc', 'ba', 'c'], 排序后的数组应该为：\n",
    "\n",
    "['a', 'ab', 'abc', 'b', 'ba', 'c']\n",
    "\n",
    "\n",
    "\n",
    "举例3：数组A=['aef', 'yzr', 'wr', 'ab', 'bhjc', 'lkabdc', 'pwcdba'],  排序后的数组应该为：['ab', 'aef', 'bhjc', 'lkabdc', 'pwcdba', 'wr', 'yzr']\n",
    "\n",
    "\n",
    "\n",
    "note：\n",
    "\n",
    "-  两个字符之间的比较可以考虑比较他们对应的ASCII码值；\n",
    "- python中可以使用`ord(\"a\")`返回字符 “a”对应的ASCII值"
   ]
  },
  {
   "cell_type": "markdown",
   "metadata": {},
   "source": [
    "idea:"
   ]
  },
  {
   "cell_type": "code",
   "execution_count": null,
   "metadata": {
    "scrolled": true
   },
   "outputs": [],
   "source": []
  },
  {
   "cell_type": "markdown",
   "metadata": {},
   "source": [
    "要在总字符数 $N$ 内完成对 $m$ 条只含小写字母字符串的字典序排序，我们可以用**Trie（字典树）＋一次深度优先遍历**，时间复杂度都是 $O(N)$。\n",
    "\n",
    "---\n",
    "\n",
    "### 算法思路\n",
    "\n",
    "1. **建 Trie**\n",
    "\n",
    "   * 定义一个节点结构，保存 $26$ 个子指针（对应字母 `a`…`z`）和一个“是否为单词结尾”标记。\n",
    "   * 遍历每个字符串，将它逐字符插入 Trie。插入一个字符只需 $O(1)$（数组索引运算），插入一条长度为 $L$ 的字符串耗时 $O(L)$。所有字符串总共字符数为 $N$，故建树一共 $O(N)$。\n",
    "\n",
    "2. **DFS 按字典序输出**\n",
    "\n",
    "   * 从根节点开始，按子指针数组下标 $0$ 到 $25$（即字符 `a` 到 `z`）依次递归遍历。\n",
    "   * 每走进一个节点，就把对应字符 push 到当前路径上；回溯时 pop 掉。\n",
    "   * 一旦遇到“单词结尾”标记，就把当前路径拼成一个完整字符串输出到结果列表里。\n",
    "   * 整个遍历会访问 Trie 中的每个节点一次，并对每个节点固定地扫描 26 个子指针，总耗时 $O(26\\times\\text{节点数})$。节点数至多 $N+1$，故也是 $O(N)$。\n",
    "\n",
    "3. **总复杂度**\n",
    "\n",
    "   * **时间**：建树 $O(N)$ + 遍历 $O(N)$ = $O(N)$。\n",
    "   * **空间**：Trie 节点数 $O(N)$，额外路径和结果列表也是 $O(N)$。"
   ]
  },
  {
   "cell_type": "code",
   "execution_count": 30,
   "metadata": {},
   "outputs": [
    {
     "name": "stdout",
     "output_type": "stream",
     "text": [
      "['a', 'ab', 'abdc', 'bc', 'bde', 'cdba', 'da']\n",
      "['a', 'ab', 'abc', 'b', 'ba', 'c']\n"
     ]
    },
    {
     "ename": "IndexError",
     "evalue": "list index out of range",
     "output_type": "error",
     "traceback": [
      "\u001b[1;31m---------------------------------------------------------------------------\u001b[0m",
      "\u001b[1;31mIndexError\u001b[0m                                Traceback (most recent call last)",
      "Input \u001b[1;32mIn [30]\u001b[0m, in \u001b[0;36m<cell line: 41>\u001b[1;34m()\u001b[0m\n\u001b[0;32m     48\u001b[0m \u001b[38;5;66;03m# -> ['a', 'ab', 'abc', 'b', 'ba', 'c']\u001b[39;00m\n\u001b[0;32m     50\u001b[0m C \u001b[38;5;241m=\u001b[39m [\u001b[38;5;124m'\u001b[39m\u001b[38;5;124maef\u001b[39m\u001b[38;5;124m'\u001b[39m,\u001b[38;5;124m'\u001b[39m\u001b[38;5;124myzr\u001b[39m\u001b[38;5;124m'\u001b[39m,\u001b[38;5;124m'\u001b[39m\u001b[38;5;124mwr\u001b[39m\u001b[38;5;124m'\u001b[39m,\u001b[38;5;124m'\u001b[39m\u001b[38;5;124mab\u001b[39m\u001b[38;5;124m'\u001b[39m,\u001b[38;5;124m'\u001b[39m\u001b[38;5;124mbhjc\u001b[39m\u001b[38;5;124m'\u001b[39m,\u001b[38;5;124m'\u001b[39m\u001b[38;5;124mlkabdc\u001b[39m\u001b[38;5;124m'\u001b[39m,\u001b[38;5;124m'\u001b[39m\u001b[38;5;124mpwcdbа\u001b[39m\u001b[38;5;124m'\u001b[39m]\n\u001b[1;32m---> 51\u001b[0m \u001b[38;5;28mprint\u001b[39m(\u001b[43msort_strings_linear\u001b[49m\u001b[43m(\u001b[49m\u001b[43mC\u001b[49m\u001b[43m)\u001b[49m)\n",
      "Input \u001b[1;32mIn [30]\u001b[0m, in \u001b[0;36msort_strings_linear\u001b[1;34m(strs)\u001b[0m\n\u001b[0;32m     14\u001b[0m \u001b[38;5;28;01mfor\u001b[39;00m ch \u001b[38;5;129;01min\u001b[39;00m s:\n\u001b[0;32m     15\u001b[0m     idx \u001b[38;5;241m=\u001b[39m \u001b[38;5;28mord\u001b[39m(ch) \u001b[38;5;241m-\u001b[39m \u001b[38;5;28mord\u001b[39m(\u001b[38;5;124m'\u001b[39m\u001b[38;5;124ma\u001b[39m\u001b[38;5;124m'\u001b[39m)\n\u001b[1;32m---> 16\u001b[0m     \u001b[38;5;28;01mif\u001b[39;00m \u001b[43mnode\u001b[49m\u001b[38;5;241;43m.\u001b[39;49m\u001b[43mchildren\u001b[49m\u001b[43m[\u001b[49m\u001b[43midx\u001b[49m\u001b[43m]\u001b[49m \u001b[38;5;129;01mis\u001b[39;00m \u001b[38;5;28;01mNone\u001b[39;00m:\n\u001b[0;32m     17\u001b[0m         node\u001b[38;5;241m.\u001b[39mchildren[idx] \u001b[38;5;241m=\u001b[39m TrieNode()\n\u001b[0;32m     18\u001b[0m     node \u001b[38;5;241m=\u001b[39m node\u001b[38;5;241m.\u001b[39mchildren[idx]\n",
      "\u001b[1;31mIndexError\u001b[0m: list index out of range"
     ]
    }
   ],
   "source": [
    "\n",
    "class TrieNode:\n",
    "    __slots__ = ('children', 'is_end')\n",
    "    def __init__(self):\n",
    "        # 26 个子指针，初始化都为 None\n",
    "        self.children = [None] * 26\n",
    "        # 标记这个节点是否对应着某个插入过的完整单词结尾\n",
    "        self.is_end = False\n",
    "\n",
    "def sort_strings_linear(strs):\n",
    "    # 1. 建 Trie\n",
    "    root = TrieNode()\n",
    "    for s in strs:\n",
    "        node = root\n",
    "        for ch in s:\n",
    "            idx = ord(ch) - ord('a')\n",
    "            if node.children[idx] is None:\n",
    "                node.children[idx] = TrieNode()\n",
    "            node = node.children[idx]\n",
    "        node.is_end = True\n",
    "\n",
    "    # 2. DFS 按字典序收集\n",
    "    res = []\n",
    "    path = []  # 存当前遍历到的字符\n",
    "\n",
    "    def dfs(node):\n",
    "        if node.is_end:\n",
    "            # 遇到一个完整单词，输出当前路径\n",
    "            res.append(''.join(path))\n",
    "        # 按 a..z 顺序遍历子节点\n",
    "        for idx in range(26):\n",
    "            child = node.children[idx]\n",
    "            if child is not None:\n",
    "                path.append(chr(idx + ord('a')))\n",
    "                dfs(child)\n",
    "                path.pop()\n",
    "\n",
    "    dfs(root)\n",
    "    return res\n",
    "\n",
    "# --- 测试 ---\n",
    "if __name__ == \"__main__\":\n",
    "    A = [\"a\", \"da\", \"bde\", \"ab\", \"bc\", \"abdc\", \"cdba\"]\n",
    "    print(sort_strings_linear(A))\n",
    "    # -> ['a', 'ab', 'abdc', 'bc', 'bde', 'cdba', 'da']\n",
    "\n",
    "    B = ['ab', 'a', 'b', 'abc', 'ba', 'c']\n",
    "    print(sort_strings_linear(B))\n",
    "    # -> ['a', 'ab', 'abc', 'b', 'ba', 'c']\n",
    "\n",
    "    C = ['aef','yzr','wr','ab','bhjc','lkabdc','pwcdbа']\n",
    "    print(sort_strings_linear(C))\n"
   ]
  },
  {
   "cell_type": "code",
   "execution_count": 31,
   "metadata": {},
   "outputs": [
    {
     "name": "stdout",
     "output_type": "stream",
     "text": [
      "['a', 'ab', 'abdc', 'bc', 'bde', 'cdba', 'da']\n",
      "['a', 'ab', 'abc', 'b', 'ba', 'c']\n",
      "['ab', 'aef', 'bhjc', 'lkabdc', 'pwcdbа', 'wr', 'yzr']\n"
     ]
    }
   ],
   "source": [
    "class TrieNode:\n",
    "    __slots__ = ('children','is_end')\n",
    "    def __init__(self):\n",
    "        # 用 dict 而不是定长列表，支持任意单字符键\n",
    "        self.children = {}\n",
    "        self.is_end = False\n",
    "\n",
    "def sort_strings_linear(strs):\n",
    "    # 1. 建 Trie\n",
    "    root = TrieNode()\n",
    "    for s in strs:\n",
    "        node = root\n",
    "        for ch in s:\n",
    "            if ch not in node.children:\n",
    "                node.children[ch] = TrieNode()\n",
    "            node = node.children[ch]\n",
    "        node.is_end = True\n",
    "\n",
    "    # 2. DFS 按字典序（字符的 Unicode/codepoint 顺序）收集\n",
    "    res = []\n",
    "    path = []\n",
    "\n",
    "    def dfs(node):\n",
    "        if node.is_end:\n",
    "            res.append(''.join(path))\n",
    "        # 对 children 的键排序，保证按字典序遍历\n",
    "        for ch in sorted(node.children):\n",
    "            path.append(ch)\n",
    "            dfs(node.children[ch])\n",
    "            path.pop()\n",
    "\n",
    "    dfs(root)\n",
    "    return res\n",
    "\n",
    "# --- 测试 ---\n",
    "if __name__ == \"__main__\":\n",
    "    A = [\"a\", \"da\", \"bde\", \"ab\", \"bc\", \"abdc\", \"cdba\"]\n",
    "    print(sort_strings_linear(A))\n",
    "    # ['a', 'ab', 'abdc', 'bc', 'bde', 'cdba', 'da']\n",
    "\n",
    "    B = ['ab', 'a', 'b', 'abc', 'ba', 'c']\n",
    "    print(sort_strings_linear(B))\n",
    "    # ['a', 'ab', 'abc', 'b', 'ba', 'c']\n",
    "\n",
    "    # 注意下面最后一个字符串里末字符是西里尔字母 'а'\n",
    "    C = ['aef', 'yzr', 'wr', 'ab', 'bhjc', 'lkabdc', 'pwcdbа']\n",
    "    print(sort_strings_linear(C))\n",
    "    # ['ab', 'aef', 'bhjc', 'lkabdc', 'pwcdbа', 'wr', 'yzr']\n"
   ]
  },
  {
   "cell_type": "code",
   "execution_count": null,
   "metadata": {},
   "outputs": [],
   "source": []
  }
 ],
 "metadata": {
  "kernelspec": {
   "display_name": "Python 3 (ipykernel)",
   "language": "python",
   "name": "python3"
  },
  "language_info": {
   "codemirror_mode": {
    "name": "ipython",
    "version": 3
   },
   "file_extension": ".py",
   "mimetype": "text/x-python",
   "name": "python",
   "nbconvert_exporter": "python",
   "pygments_lexer": "ipython3",
   "version": "3.9.12"
  }
 },
 "nbformat": 4,
 "nbformat_minor": 2
}
