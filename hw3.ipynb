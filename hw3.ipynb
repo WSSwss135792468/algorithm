{
 "cells": [
  {
   "cell_type": "markdown",
   "metadata": {},
   "source": [
    "## algorithm design and anlysis-2025 spring  homework 3\n",
    "**Deadline**：2025.5.14\n",
    "\n",
    "**name**:\n",
    "\n",
    "\n",
    "note：\n",
    "---\n",
    "1. 带有\\*的题目，申请免上课的同学，必须完成，其他同学选作；\n",
    "2. 请独立完成，如求助了他人或者大模型，请著明，并且不可省略算法分析部分；\n",
    "4. 如若作答有雷同，全部取消成绩；\n",
    "3. 需要书面作答的题目，可以通过引用图片的形式添加，但是注意上传项目时包含所引用的图片的源文件；\n",
    "4. $log_n$ 默认表示$log_2{n}$;"
   ]
  },
  {
   "cell_type": "markdown",
   "metadata": {},
   "source": [
    "## 问题 1  \n",
    "\n",
    "请证明基于比较的排序算法计算复杂度下界为$\\Omega(nlogn)$"
   ]
  },
  {
   "cell_type": "markdown",
   "metadata": {},
   "source": [
    "![figure](./fig/3.1.png)"
   ]
  },
  {
   "cell_type": "markdown",
   "metadata": {},
   "source": [
    "## 问题 2 \n",
    "\n",
    "构建二叉搜索树\n",
    "\n",
    "> 1. 给定一个数组 [48, 33, 49, 47, 42, 46, 32], 构建一个二叉搜索树存储这些数据，请**绘制**所构建的**二叉搜索树**（标明结点的值）。\n",
    "> 2. 从第1问的二叉搜索树中删除33，请**绘制**删除33后的**二叉搜索树**（标明结点的值）\n",
    "\n",
    "- 推荐使用graphviz包绘制树的结构"
   ]
  },
  {
   "cell_type": "markdown",
   "metadata": {},
   "source": [
    " 1、graphviz 配置出错，故采用其他方式\n",
    " \n",
    "        48\n",
    "       /  \\\n",
    "      33   49\n",
    "     /  \\\n",
    "    32   47\n",
    "         /\n",
    "        42\n",
    "          \\\n",
    "           46\n"
   ]
  },
  {
   "cell_type": "markdown",
   "metadata": {},
   "source": [
    "2\n",
    "\n",
    "        48\n",
    "       /  \\\n",
    "      42   49\n",
    "     /  \\\n",
    "    32   47\n",
    "          \\\n",
    "           46\n"
   ]
  },
  {
   "cell_type": "markdown",
   "metadata": {},
   "source": [
    "## 问题 3 \n",
    "\n",
    "> 下面是九门课程的开始和结束时间:\n",
    ">\n",
    "> [(9:00,12:30), (11:00,14:00), (13:00, 14:30), (9:00,10:30),(13:00, 14:30),(14:00,16:30), (15:00,16:30), (15:00,16:30), (9:00,10:30)]\n",
    ">\n",
    "> 请使用贪婪算法为这九门课分配教室，要求在同一天内安排这些课，并且每个教室同一时间只能安排一门课。\n",
    "\n",
    "**请问最少需要几间教室，罗列出每个教室安排的课程**"
   ]
  },
  {
   "cell_type": "markdown",
   "metadata": {},
   "source": [
    "idea："
   ]
  },
  {
   "cell_type": "markdown",
   "metadata": {},
   "source": [
    "### 算法思路\n",
    "\n",
    "1. **按上课时间排序**\n",
    "   将所有课程按照开始时间从早到晚排序。这样我们可以模拟一天中课程一个接一个地“到达”。\n",
    "\n",
    "2. **维护一个最小堆存储教室可用时间**\n",
    "\n",
    "   * 堆中每个元素是 `(end_time, room_id)`，表示该教室在 `end_time` 之后才可再开新课。\n",
    "   * 每当遇到一门新课，如果堆顶的教室在这门课开始前（`heap[0][0] ≤ start_time`）已空出，就弹出堆顶，把这门课安排到这个教室；\n",
    "   * 否则，需要新开一个教室，把它分配一个新的 `room_id`。\n",
    "   * 不论是哪种情况，都要把该教室的新结束时间 `(this_course_end, room_id)` 再 push 回堆中。\n",
    "\n",
    "3. **记录安排**\n",
    "   我们额外维护一个字典 `schedule`：键是 `room_id`，值是该教室已排课程的列表。每次分配，就往对应列表里 append 这门课。\n",
    "\n",
    "4. **结果**\n",
    "\n",
    "   * 最终堆大小就是所需的最少教室数。\n",
    "   * `schedule` 中每个 `room_id` 对应的列表就是该教室内的课程时间段（按时间顺序自然排好）。"
   ]
  },
  {
   "cell_type": "code",
   "execution_count": 2,
   "metadata": {
    "vscode": {
     "languageId": "plaintext"
    }
   },
   "outputs": [
    {
     "name": "stdout",
     "output_type": "stream",
     "text": [
      "最少需要教室数：3\n",
      "\n",
      "教室 1：\n",
      "  09:00 – 12:30\n",
      "  13:00 – 14:30\n",
      "  15:00 – 16:30\n",
      "\n",
      "教室 2：\n",
      "  09:00 – 10:30\n",
      "  11:00 – 14:00\n",
      "  14:00 – 16:30\n",
      "\n",
      "教室 3：\n",
      "  09:00 – 10:30\n",
      "  13:00 – 14:30\n",
      "  15:00 – 16:30\n",
      "\n"
     ]
    }
   ],
   "source": [
    "import heapq\n",
    "\n",
    "def classrooms(courses):\n",
    "\n",
    "    courses = sorted(courses, key=lambda x: x[0])\n",
    "    heap = []\n",
    "    next_room_id = 1\n",
    "    schedule = {}\n",
    "    \n",
    "    for start, end in courses:\n",
    "        if heap and heap[0][0] <= start:\n",
    "            avail_time, room_id = heapq.heappop(heap)\n",
    "        else:\n",
    "            room_id = next_room_id\n",
    "            next_room_id += 1\n",
    "            schedule[room_id] = []\n",
    "        schedule[room_id].append((start, end))\n",
    "        heapq.heappush(heap, (end, room_id))\n",
    "    \n",
    "    num_rooms = len(schedule)\n",
    "    return num_rooms, schedule\n",
    "\n",
    "def to_minutes(t):\n",
    "    h, m = map(int, t.split(':'))\n",
    "    return h*60 + m\n",
    "\n",
    "def to_hhmm(m):\n",
    "    return f\"{m//60:02d}:{m%60:02d}\"\n",
    "\n",
    "\n",
    "raw = [\n",
    "    (\"09:00\",\"12:30\"), (\"11:00\",\"14:00\"), (\"13:00\",\"14:30\"),\n",
    "    (\"09:00\",\"10:30\"), (\"13:00\",\"14:30\"), (\"14:00\",\"16:30\"),\n",
    "    (\"15:00\",\"16:30\"), (\"15:00\",\"16:30\"), (\"09:00\",\"10:30\")\n",
    "]\n",
    "courses = [(to_minutes(s), to_minutes(e)) for s,e in raw]\n",
    "\n",
    "rooms, sched = classrooms(courses)\n",
    "print(f\"最少需要教室数：{rooms}\\n\")\n",
    "for rid in sorted(sched):\n",
    "    print(f\"教室 {rid}：\")\n",
    "    for s,e in sched[rid]:\n",
    "        print(f\"  {to_hhmm(s)} – {to_hhmm(e)}\")\n",
    "    print()"
   ]
  },
  {
   "cell_type": "markdown",
   "metadata": {},
   "source": [
    "## 问题 4 \n",
    "\n",
    "> 爬楼梯问题：假设爬楼梯时你每次只能爬一阶或者爬两阶，问爬上n阶的楼梯，你一共有多少种方法\n",
    "\n",
    "请设计算法完成该问题，分析算法设计思路，计算时间复杂度，并基于python编程实现"
   ]
  },
  {
   "cell_type": "markdown",
   "metadata": {},
   "source": [
    "idea："
   ]
  },
  {
   "cell_type": "markdown",
   "metadata": {},
   "source": [
    "### 算法设计思路\n",
    "\n",
    "1. **定义子问题**\n",
    "   设 $f(i)$ 为“到达第 $i$ 级台阶”的不同爬法数目。我们最终想要的是 $f(n)$。\n",
    "\n",
    "2. **推导递推关系**\n",
    "   要到达第 $i$ 级台阶，最后一步要么是从第 $i-1$ 级走 1 级上来，要么是从第 $i-2$ 级跨 2 级上来。因此\n",
    "\n",
    "   $$\n",
    "     f(i) \\;=\\; f(i-1)\\;+\\;f(i-2).\n",
    "   $$\n",
    "\n",
    "3. **初始条件**\n",
    "\n",
    "   * $f(0)=1$：站在地面（相当于“第 0 级”）只有 1 种“爬法”（什么都不爬）；\n",
    "   * $f(1)=1$：要爬到第 1 级，只能一次爬 1 级。\n",
    "\n",
    "4. **计算顺序**\n",
    "   从下标 2 开始，依次按上面的递推式计算到 $f(n)$。\n",
    "\n",
    "5. **优化空间**\n",
    "   由于每次只用到前两项，可以用两个变量滚动保存，不必开 $O(n)$ 大小的数组，空间 $O(1)$。\n",
    "\n",
    "\n",
    "* **时间复杂度**：一次从 $2$ 遍历到 $n$，做常数次加法，$O(n)$。"
   ]
  },
  {
   "cell_type": "code",
   "execution_count": 3,
   "metadata": {},
   "outputs": [
    {
     "name": "stdout",
     "output_type": "stream",
     "text": [
      "n= 0, ways=1\n",
      "n= 1, ways=1\n",
      "n= 2, ways=2\n",
      "n= 3, ways=3\n",
      "n= 4, ways=5\n",
      "n= 5, ways=8\n",
      "n= 6, ways=13\n",
      "n= 7, ways=21\n",
      "n= 8, ways=34\n",
      "n= 9, ways=55\n",
      "n=10, ways=89\n"
     ]
    }
   ],
   "source": [
    "def climb_stairs(n):\n",
    "    if n <= 1:\n",
    "        return 1\n",
    "\n",
    "    f0, f1 = 1, 1\n",
    "\n",
    "    for i in range(2, n+1):\n",
    "        f0, f1 = f1, f0 + f1\n",
    "\n",
    "    return f1\n",
    "\n",
    "for n in range(0, 11):\n",
    "    print(f\"n={n:2d}, ways={climb_stairs(n)}\")"
   ]
  },
  {
   "cell_type": "markdown",
   "metadata": {},
   "source": [
    "## 问题 5 \n",
    "\n",
    "> 0-1背包问题：现在有4块大理石，每个大理石对应的重量和价值使用一个元组表示, 即（重量，价值），4块大理石的重量和价值为：[(5,10), (4,40), (6,30), (3, 50)], 假设你有一辆最大承重为9的小推车，请问使用这个小推车装大理石的最大价值为多少\n",
    "\n",
    "请设计一个算法解决该问题，分析算法设计思路，计算时间复杂度，并基于python编程实现"
   ]
  },
  {
   "cell_type": "markdown",
   "metadata": {},
   "source": [
    "idea："
   ]
  },
  {
   "cell_type": "markdown",
   "metadata": {},
   "source": [
    "### 算法思路\n",
    "\n",
    "* **DP **\n",
    "  令\n",
    "\n",
    "  $$\n",
    "    dp[j]=\n",
    "    \\begin{cases}\n",
    "      \\text{背包容量恰好为 }j\\text{ 时能取得的最大价值},\\quad j=0\\ldots W.\n",
    "    \\end{cases}\n",
    "  $$\n",
    "\n",
    "* **转移方程**\n",
    "  对于每块石头 $(w,v)$，我们要么不装入，要么装入：\n",
    "\n",
    "  $$\n",
    "    dp[j]\\;=\\;\\max\\bigl(dp[j],\\;dp[j-w]+v\\bigr),\n",
    "    \\quad \\text{前提是 }j\\ge w.\n",
    "  $$\n",
    "\n",
    "  为了保证「每块石头只能用一次」，我们要让容量 $j$ 从大到小遍历。\n",
    "\n",
    "* **初始条件**\n",
    "\n",
    "  $$\n",
    "    dp[0]=0,\\quad dp[j>0]=0,\n",
    "  $$\n",
    "\n",
    "  表示一开始还没放任何石头，价值都是 0。\n",
    "\n",
    "* **最终答案**\n",
    "  扫描完所有石头后，$dp[W]$ 就是最大可取价值。\n",
    "\n",
    "* **时间复杂度**：有 $n=4$ 件物品，容量 $W=9$。外层遍历物品 $O(n)$，内层容量从 $W$ 到 $w_i$ 为 $O(W)$，总 $O(nW)$。\n"
   ]
  },
  {
   "cell_type": "code",
   "execution_count": 4,
   "metadata": {},
   "outputs": [
    {
     "name": "stdout",
     "output_type": "stream",
     "text": [
      "推车最大承重 9，可装石头的最大总价值为：90\n"
     ]
    }
   ],
   "source": [
    "def knapsack_01(items, capacity):\n",
    "    dp = [0] * (capacity + 1)\n",
    "    for w, v in items:\n",
    "        for j in range(capacity, w - 1, -1):\n",
    "            dp[j] = max(dp[j], dp[j - w] + v)\n",
    "\n",
    "    return dp[capacity]\n",
    "\n",
    "stones = [(5, 10), (4, 40), (6, 30), (3, 50)]\n",
    "max_weight = 9\n",
    "result = knapsack_01(stones, max_weight)\n",
    "print(f\"推车最大承重 {max_weight}，可装石头的最大总价值为：{result}\")"
   ]
  },
  {
   "cell_type": "markdown",
   "metadata": {},
   "source": [
    "## 问题 6 \n",
    "给定 `n` 个非负整数表示每个宽度为 `1` 的柱子的高度图，计算按此排列的柱子，下雨之后能接多少雨水。\n",
    "\n",
    "\n",
    "\n",
    "<div style=\"text-align:center;width:800px;\"> <img alt=\"\" src=\"./fig/hw3q6.png\"> </div>\n",
    "\n",
    "请分析算法设计思路，计算时间复杂度，并基于python编程实现"
   ]
  },
  {
   "cell_type": "markdown",
   "metadata": {},
   "source": [
    "idea："
   ]
  },
  {
   "cell_type": "markdown",
   "metadata": {},
   "source": [
    "### 算法思路（双指针）\n",
    "\n",
    "1. **定义两端指针**\n",
    "\n",
    "   * `l` 从左往右扫，初始 `l=0`；\n",
    "   * `r` 从右往左扫，初始 `r=n-1`。\n",
    "\n",
    "2. **维护左右最高柱子**\n",
    "\n",
    "   * `left_max` 记录遍历过程中左侧看到的最高柱子高度；\n",
    "   * `right_max` 记录遍历过程中右侧看到的最高柱子高度。\n",
    "\n",
    "3. **移动较低一侧指针**\n",
    "\n",
    "   * 每次比较 `height[l]` 和 `height[r]`：\n",
    "\n",
    "     * 如果 `height[l] < height[r]`，说明左边的当前柱子最高能接水的量只取决于 `left_max`：\n",
    "\n",
    "       * 若 `height[l] ≥ left_max`，更新 `left_max = height[l]`；\n",
    "       * 否则，`left_max - height[l]` 就是第 `l` 根柱子上能接的水，累加到答案。\n",
    "       * 然后 `l += 1` 继续。\n",
    "     * 否则（`height[r] ≤ height[l]`），对称地用 `right_max` 来计算第 `r` 根柱子能接的水，再 `r -= 1`。\n",
    "\n",
    "4. **结束条件**\n",
    "   当 `l > r` 时结束，累计值即为答案。\n",
    "\n",
    "* **时间复杂度**：指针 `l`、`r` 合计只会移动 $n$ 步，一次扫描完成，$O(n)$。"
   ]
  },
  {
   "cell_type": "code",
   "execution_count": 5,
   "metadata": {},
   "outputs": [
    {
     "name": "stdout",
     "output_type": "stream",
     "text": [
      "6\n",
      "9\n"
     ]
    }
   ],
   "source": [
    "def trap(height):\n",
    "    l, r = 0, len(height) - 1\n",
    "    left_max = right_max = 0\n",
    "    water = 0\n",
    "\n",
    "    while l <= r:\n",
    "        if height[l] < height[r]:\n",
    "            if height[l] > left_max:\n",
    "                left_max = height[l]\n",
    "            else:\n",
    "                water += left_max - height[l]\n",
    "            l += 1\n",
    "        else:\n",
    "            if height[r] > right_max:\n",
    "                right_max = height[r]\n",
    "            else:\n",
    "                water += right_max - height[r]\n",
    "            r -= 1\n",
    "\n",
    "    return water\n",
    "\n",
    "h1 = [0,1,0,2,1,0,1,3,2,1,2,1]\n",
    "print(trap(h1))  \n",
    "\n",
    "h2 = [4,2,0,3,2,5]\n",
    "print(trap(h2))  "
   ]
  },
  {
   "cell_type": "markdown",
   "metadata": {},
   "source": [
    "## 问题 7 \n",
    "\n",
    "**股票投资组合优化**： 假设你是一位投资者，想要在不同的股票中分配你的资金，以最大化你的投资回报。每只股票都有不同的预期收益率和风险。你的目标是选择一些股票，使得总投资金额不超过你的预算，并且预期收益最大化。\n",
    "\n",
    "在这个情况下，你可以将每只股票视为一个“物品”，其重量为投资金额，价值为预期收益率。然后，你可以使用分级背包问题的方法来选择部分股票，以便在预算内获得最大的预期收益。\n",
    "\n",
    "以下是一个简化的例子：\n",
    "\n",
    "假设你有以下三只股票可供选择：\n",
    "\n",
    "1. 股票 A：投资金额 5000 美元，预期收益率 10%\n",
    "2. 股票 B：投资金额 3000 美元，预期收益率 8%\n",
    "3. 股票 C：投资金额 2000 美元，预期收益率 12%\n",
    "\n",
    "请设计算法找到最优投资方案，分析算法设计思路，计算时间复杂度，并基于python编程实现"
   ]
  },
  {
   "cell_type": "markdown",
   "metadata": {},
   "source": [
    "idea："
   ]
  },
  {
   "cell_type": "markdown",
   "metadata": {},
   "source": [
    "### 思路：把股票选股当作 0–1 背包\n",
    "\n",
    "* **物品**：每只股票\n",
    "* **重量** $w_i$：投资该股所需金额\n",
    "* **价值** $v_i$：预期收益（例如“投资金额×收益率”或直接用收益率加权）\n",
    "* **背包容量** $B$：你的总预算\n",
    "\n",
    "目标：选一组股票，使得总重量 $\\le B$ 且总价值最大。\n",
    "\n",
    "1. **状态定义**\n",
    "   用一维数组 `dp[j]` 表示“恰用预算 $j$ 时最大可得的预期收益”。\n",
    "\n",
    "2. **初始化**\n",
    "\n",
    "   ```\n",
    "   dp[0..B] = 0  \n",
    "   ```\n",
    "\n",
    "   表示初始没投任何股，收益为 0。\n",
    "\n",
    "3. **状态转移**\n",
    "   依次枚举第 $i$ 只股票 $(w_i, v_i)$，为了保证每只股票只能选一次，预算 $j$ 必须**从大到小**遍历：\n",
    "\n",
    "   ```\n",
    "   for i in 0..n-1:\n",
    "     for j in B down to w_i:\n",
    "       dp[j] = max(dp[j], dp[j - w_i] + v_i)\n",
    "   ```\n",
    "\n",
    "4. **回溯选股方案**\n",
    "   为了知道到底选了哪些股票，可以额外维护一个二维布尔表 `take[i][j]`，标记在处理第 i 只股、预算 j 时是否“取”了它。\n",
    "\n",
    "   * 当 `dp[j]` 被“投入第 i 只”这一分支更新时，记 `take[i][j] = True`；否则 `take[i][j] = False`。\n",
    "   * 最后从 `(i=n-1, j=B)` 开始倒推：若 `take[i][j]` 为真，则把第 $i$ 只加入结果，并令 `j -= w_i`；再看 `i-1`，依此类推。\n",
    "\n",
    "5. **结果**\n",
    "\n",
    "   * 最优预期收益：`dp[B]`\n",
    "   * 最优选股列表：通过 `take` 回溯得到的一组索引。\n",
    "\n",
    "* **时间**：外层 $n$ 支股票，内层预算循环 $B$ 次，总计 $O(nB)$。\n"
   ]
  },
  {
   "cell_type": "code",
   "execution_count": 6,
   "metadata": {},
   "outputs": [
    {
     "name": "stdout",
     "output_type": "stream",
     "text": [
      "最大预期收益： 740\n",
      "选中股票索引： [0, 2]\n",
      "  股票 0 cost,return = (5000, 500)\n",
      "  股票 2 cost,return = (2000, 240)\n"
     ]
    }
   ],
   "source": [
    "def optimize(stocks, budget):\n",
    "    n = len(stocks)\n",
    "    dp = [0] * (budget + 1)\n",
    "    take = [[False] * (budget + 1) for _ in range(n)]\n",
    "\n",
    "    for i, (w, v) in enumerate(stocks):\n",
    "        for j in range(budget, w - 1, -1):\n",
    "            if dp[j - w] + v > dp[j]:\n",
    "                dp[j] = dp[j - w] + v\n",
    "                take[i][j] = True\n",
    "\n",
    "    res_indices = []\n",
    "    j = budget\n",
    "    for i in range(n - 1, -1, -1):\n",
    "        if take[i][j]:\n",
    "            res_indices.append(i)\n",
    "            j -= stocks[i][0]\n",
    "\n",
    "    res_indices.reverse()\n",
    "    return dp[budget], res_indices\n",
    "\n",
    "stocks = [\n",
    "    (5000, 500),\n",
    "    (3000, 240),\n",
    "    (2000, 240),\n",
    "]\n",
    "B = 7000  # 假设预算是 7000\n",
    "max_ret, picks = optimize(stocks, B)\n",
    "print(\"最大预期收益：\", max_ret)\n",
    "print(\"选中股票索引：\", picks)\n",
    "for idx in picks:\n",
    "    print(\"  股票\", idx, \"cost,return =\", stocks[idx])"
   ]
  },
  {
   "cell_type": "markdown",
   "metadata": {},
   "source": [
    "## 问题 8\n",
    "\n",
    "给你二叉搜索树的根节点 root ，该树中的恰好两个节点的值被错误地交换。请在不改变其结构的情况下，恢复这棵树 。设计算法解决该问题，分析算法设计思路，计算时间复杂度，并基于python编程实现\n",
    "\n",
    "e.g.:\n",
    "---\n",
    "1.\n",
    "\n",
    "<div style=\"text-align:center;width:200px;\"> <img alt=\"\" src=\"./fig/hw3q9-1.jpg\"> </div>\n",
    "输入：root = [1,3,null,null,2]， 输出为：[3,1,null,null,2]， \n",
    "\n",
    "解释：3 不能是 1 的左孩子，因为 3 > 1 。交换 1 和 3 使二叉搜索树有效。\n",
    "\n",
    "2.\n",
    "\n",
    " <div style=\"text-align:center;width:200px;\"> <img alt=\"\" src=\"./fig/hw3q9-1.jpg\"> </div>\n",
    "输入： root=[3,1,4,null,null,2]， 输出为：[2,1,4,null,null,3]\n",
    "\n",
    "解释：2 不能在 3 的右子树中，因为 2 < 3 。交换 2 和 3 使二叉搜索树有效。"
   ]
  },
  {
   "cell_type": "markdown",
   "metadata": {},
   "source": [
    "idea：\n"
   ]
  },
  {
   "cell_type": "markdown",
   "metadata": {},
   "source": [
    "### 算法设计思路\n",
    "\n",
    "1. **BST 的中序遍历必然是升序**\n",
    "   正常情况下，对 BST 做中序遍历会产生一个严格升序的节点值序列。若有两个节点值被交换，则这个序列中会出现至多两处“降序”：\n",
    "\n",
    "2. **定位那两个节点**\n",
    "\n",
    "   * 在一次中序遍历内，维护 `prev`（前一个访问的节点），以及 `first` 和 `second`：\n",
    "\n",
    "     * 当发现 `prev.val > curr.val` 时，如果是**第一次**降序，就把 `first = prev`，`second = curr`；\n",
    "     * 若是**第二次**降序，再把 `second = curr`（替换上一次记录的 `second`）。\n",
    "   * 这样遍历结束后，`first` 和 `second` 就分别指向那两个被错换的节点。\n",
    "\n",
    "3. **交换它们的值**\n",
    "   只需 `first.val, second.val = second.val, first.val`。\n",
    "\n",
    "整个过程一次中序遍历，时间复杂度为： $O(n)$。"
   ]
  },
  {
   "cell_type": "code",
   "execution_count": 7,
   "metadata": {
    "scrolled": true
   },
   "outputs": [
    {
     "name": "stdout",
     "output_type": "stream",
     "text": [
      "恢复前序列化： [1, 3, None, None, 2]\n",
      "恢复后序列化： [3, 1, None, None, 2]\n",
      "恢复前序列化： [3, 1, 4, None, None, 2]\n",
      "恢复后序列化： [2, 1, 4, None, None, 3]\n"
     ]
    }
   ],
   "source": [
    "# Definition for a binary tree node.\n",
    "class TreeNode:\n",
    "    def __init__(self, x):\n",
    "        self.val = x\n",
    "        self.left = None\n",
    "        self.right = None\n",
    "\n",
    "def recover_bst(root):\n",
    "    first = second = prev = None\n",
    "\n",
    "    def inorder(node):\n",
    "        nonlocal first, second, prev\n",
    "        if not node:\n",
    "            return\n",
    "        inorder(node.left)\n",
    "        if prev and prev.val > node.val:\n",
    "            if not first:\n",
    "                first, second = prev, node\n",
    "            else:\n",
    "                second = node\n",
    "        prev = node\n",
    "        inorder(node.right)\n",
    "\n",
    "    inorder(root)\n",
    "    first.val, second.val = second.val, first.val\n",
    "\n",
    "def serialize(root):\n",
    "    from collections import deque\n",
    "    q = deque([root])\n",
    "    out = []\n",
    "    while q:\n",
    "        node = q.popleft()\n",
    "        if node:\n",
    "            out.append(node.val)\n",
    "            q.append(node.left)\n",
    "            q.append(node.right)\n",
    "        else:\n",
    "            out.append(None)\n",
    "    while out and out[-1] is None:\n",
    "        out.pop()\n",
    "    return out\n",
    "\n",
    "root = TreeNode(1)\n",
    "root.left = TreeNode(3)\n",
    "root.left.right = TreeNode(2)\n",
    "\n",
    "print(\"恢复前序列化：\", serialize(root))  # [1,3,None,None,2]\n",
    "recover_bst(root)\n",
    "print(\"恢复后序列化：\", serialize(root))  # [3,1,None,None,2]\n",
    "\n",
    "\n",
    "root2 = TreeNode(3)\n",
    "root2.left = TreeNode(1)\n",
    "root2.right = TreeNode(4)\n",
    "root2.right.left = TreeNode(2)\n",
    "\n",
    "print(\"恢复前序列化：\", serialize(root2))  # [3,1,4,None,None,2]\n",
    "recover_bst(root2)\n",
    "print(\"恢复后序列化：\", serialize(root2))  # [2,1,4,None,None,3]\n"
   ]
  },
  {
   "cell_type": "markdown",
   "metadata": {},
   "source": [
    "## 问题 9  \n",
    "\n",
    "给你一个二叉树的根节点 root ，树中每个节点都存放有一个 0 到 9 之间的数字。每条从根节点到叶节点的路径都代表一个数字：\n",
    "\n",
    "> 例如，从根节点到叶节点的路径 1 -> 2 -> 3 表示数字 123 。\n",
    "\n",
    "设计一个算法计算从根节点到叶节点生成的所有数字之和 ，分析算法设计思路，计算时间复杂度，并基于python编程实现\n",
    "\n",
    "叶节点:是指没有子节点的节点。\n",
    "\n",
    "e.g.:\n",
    "---\n",
    "1.\n",
    "\n",
    " <div style=\"text-align:center;width:200px;\"> <img alt=\"figure\" src=\"./fig/hw3q10-1.jpg\"> </div>\n",
    "\n",
    " 输入：root = [1,2,3], 输出：25\n",
    "\n",
    "解释：从根到叶子节点路径 1->2 代表数字 12，1->3 代表数字 13，因此和为 12 + 13 = 25 。\n",
    "\n",
    "2.\n",
    "\n",
    " <div style=\"text-align:center;width:200px;\"> <img alt=\"figure\" src=\"./fig/hw3q10-2.jpg\"> </div>\n",
    "\n",
    " 输入：root = [4,9,0,5,1], 输出：1026\n",
    "\n",
    "解释：从根到叶子节点路径 4->9->5 代表数字 495，4->9->1 代表数字 491，4->0 代表数字 40。因此和为 495 + 491 + 40 = 1026 。"
   ]
  },
  {
   "cell_type": "markdown",
   "metadata": {},
   "source": [
    "idea："
   ]
  },
  {
   "cell_type": "markdown",
   "metadata": {},
   "source": [
    "### 算法思路\n",
    "我们要把二叉树中每条从根到叶的路径看成一个十进制数（把每个节点的数字「拼接」起来），然后把所有这样的数累加。可以用一次前序遍历（DFS）来完成：\n",
    "\n",
    "1. **递归维护「当前路径值」**\n",
    "\n",
    "   * 进入一个节点时，把它的值拼到前面的结果后面：\n",
    "   \n",
    "2. **遇到叶子节点**\n",
    "\n",
    "   * 如果当前节点左右孩子都为空，就把 `newVal` 加到全局总和里。\n",
    "3. **非叶子节点**\n",
    "\n",
    "   * 继续递归左右子树，分别传入 `newVal`。\n",
    "4. **总体结果**\n",
    "\n",
    "   * 遍历完所有节点后，全局累加器就是答案。\n",
    "\n",
    "* **时间复杂度**：每个节点只会进入递归一次，做 $O(1)$ 的拼接和判断，总计 $O(n)$。"
   ]
  },
  {
   "cell_type": "code",
   "execution_count": 8,
   "metadata": {},
   "outputs": [
    {
     "name": "stdout",
     "output_type": "stream",
     "text": [
      "25\n",
      "1026\n"
     ]
    }
   ],
   "source": [
    "class TreeNode:\n",
    "    def __init__(self, x):\n",
    "        self.val = x\n",
    "        self.left = None\n",
    "        self.right = None\n",
    "\n",
    "def sum_root_to_leaf(root):\n",
    "    total = 0\n",
    "\n",
    "    def dfs(node, cur):\n",
    "        nonlocal total\n",
    "        if not node:\n",
    "            return\n",
    "        cur = cur * 10 + node.val\n",
    "        if not node.left and not node.right:\n",
    "            total += cur\n",
    "            return\n",
    "        dfs(node.left, cur)\n",
    "        dfs(node.right, cur)\n",
    "\n",
    "    dfs(root, 0)\n",
    "    return total\n",
    "\n",
    "root1 = TreeNode(1)\n",
    "root1.left  = TreeNode(2)\n",
    "root1.right = TreeNode(3)\n",
    "print(sum_root_to_leaf(root1))  \n",
    "\n",
    "\n",
    "root2 = TreeNode(4)\n",
    "root2.left  = TreeNode(9)\n",
    "root2.right = TreeNode(0)\n",
    "root2.left.left  = TreeNode(5)\n",
    "root2.left.right = TreeNode(1)\n",
    "print(sum_root_to_leaf(root2))  \n"
   ]
  },
  {
   "cell_type": "markdown",
   "metadata": {},
   "source": [
    "## 问题 10  \n",
    "\n",
    "给你一个二叉树的根节点 root ， 检查它是否轴对称。\n",
    "\n",
    "1. 分析算法设计思路，计算时间复杂度，并基于python编程实现\n",
    "2. \\* 设计使用递归和迭代两种方法解决这个问题，计算时间复杂度，并基于python编程实现\n",
    "\n",
    "e.g.:\n",
    "---\n",
    "1.\n",
    "\n",
    " <div style=\"text-align:center;width:200px;\"> <img alt=\"figure\" src=\"./fig/hw3q11-1.png\"> </div>\n",
    "\n",
    " 输入：root = [1,2,2,3,4,4,3]， 输出：true\n",
    "\n",
    "解释：二叉树 [1,2,2,3,4,4,3] 对称。\n",
    "\n",
    "2.\n",
    "\n",
    " <div style=\"text-align:center;width:200px;\"> <img alt=\"figure\" src=\"./fig/hw3q11-2.png\"> </div>\n",
    "\n",
    " 输入：root = [1,2,2,null,3,null,3]， 输出：false"
   ]
  },
  {
   "cell_type": "markdown",
   "metadata": {},
   "source": [
    "idea"
   ]
  },
  {
   "cell_type": "markdown",
   "metadata": {},
   "source": [
    "### 算法思路\n",
    "\n",
    "* **何谓对称**\n",
    "  树是对称的，当且仅当它的左子树和右子树互为镜像。\n",
    "  “镜像”要求：\n",
    "\n",
    "  1. 两个节点都为空 → 对称；\n",
    "  2. 都非空且值相等，并且\n",
    "\n",
    "     * 左子树的左孩子 ⇔ 右子树的右孩子\n",
    "     * 左子树的右孩子 ⇔ 右子树的左孩子\n",
    "\n",
    "* **时间复杂度**\n",
    "  不管是递归还是迭代，我们都要访问每个节点常数次，故时间都是 $O(n)$，$n$ 为节点总数。"
   ]
  },
  {
   "cell_type": "code",
   "execution_count": 12,
   "metadata": {},
   "outputs": [
    {
     "name": "stdout",
     "output_type": "stream",
     "text": [
      "True\n",
      "False\n"
     ]
    }
   ],
   "source": [
    "from collections import deque\n",
    "## 一、递归法\n",
    "class TreeNode:\n",
    "    def __init__(self, x):\n",
    "        self.val = x\n",
    "        self.left = None\n",
    "        self.right = None\n",
    "def build_tree(vals):\n",
    "    if not vals:\n",
    "        return None\n",
    "    it = iter(vals)\n",
    "    root = TreeNode(next(it))\n",
    "    q = deque([root])\n",
    "    for v in it:\n",
    "        node = q[0]\n",
    "        if v is not None:\n",
    "            child = TreeNode(v)\n",
    "            q.append(child)\n",
    "        else:\n",
    "            child = None\n",
    "\n",
    "        # 先填左孩子，再填右孩子\n",
    "        if not node.left:\n",
    "            node.left = child\n",
    "        else:\n",
    "            node.right = child\n",
    "            q.popleft()\n",
    "\n",
    "    return root\n",
    "\n",
    "def is_symmetric(root):\n",
    "    if not root:\n",
    "        return True\n",
    "\n",
    "    def check(a, b):\n",
    "        if not a and not b:\n",
    "            return True\n",
    "        if not a or not b or a.val != b.val:\n",
    "            return False\n",
    "        return check(a.left, b.right) and check(a.right, b.left)\n",
    "\n",
    "    return check(root.left, root.right)\n",
    "\n",
    "root1 = build_tree([1,2,2,3,4,4,3])\n",
    "print(is_symmetric(root1))      \n",
    "\n",
    "root2 = build_tree([1,2,2,None,3,None,3])\n",
    "print(is_symmetric(root2))      "
   ]
  },
  {
   "cell_type": "markdown",
   "metadata": {},
   "source": [
    "* **迭代法时间复杂度**：$O(n)$"
   ]
  },
  {
   "cell_type": "code",
   "execution_count": 13,
   "metadata": {},
   "outputs": [
    {
     "name": "stdout",
     "output_type": "stream",
     "text": [
      "True\n",
      "False\n"
     ]
    }
   ],
   "source": [
    "def is_symmetric_iter(root):\n",
    "    if not root:\n",
    "        return True\n",
    "    q = deque()\n",
    "    q.append((root.left, root.right))\n",
    "\n",
    "    while q:\n",
    "        a, b = q.popleft()\n",
    "        if not a and not b:\n",
    "            continue\n",
    "        if not a or not b or a.val != b.val:\n",
    "            return False\n",
    "        q.append((a.left,  b.right))\n",
    "        q.append((a.right, b.left))\n",
    "\n",
    "    return True\n",
    "\n",
    "root1 = build_tree([1,2,2,3,4,4,3])\n",
    "print(is_symmetric_iter(root1))  \n",
    "\n",
    "root2 = build_tree([1,2,2,None,3,None,3])\n",
    "print(is_symmetric_iter(root2))  "
   ]
  },
  {
   "cell_type": "markdown",
   "metadata": {},
   "source": [
    "## 问题 11  \n",
    "\n",
    "给你一个由 '1'（陆地）和 '0'（水）组成的的二维网格，请你计算网格中岛屿的数量。岛屿总是被水包围，并且每座岛屿只能由水平方向和/或竖直方向上相邻的陆地连接形成。\n",
    "\n",
    "此外，你可以假设该网格的四条边均被水包围。\n",
    "\n",
    "分析算法设计思路，计算时间复杂度，并基于python编程实现\n",
    "\n",
    "e.g.:\n",
    "---\n",
    "1.\n",
    "输入：grid = [\n",
    "\n",
    "    [\"1\",\"1\",\"1\",\"1\",\"0\"],\n",
    "\n",
    "    [\"1\",\"1\",\"0\",\"1\",\"0\"], \n",
    "\n",
    "    [\"1\",\"1\",\"0\",\"0\",\"0\"], \n",
    "\n",
    "    [\"0\",\"0\",\"0\",\"0\",\"0\"]  \n",
    "\n",
    "]\n",
    "\n",
    "输出：1\n",
    "\n",
    "2.\n",
    "输入：grid = [\n",
    "\n",
    "    [\"1\",\"1\",\"0\",\"0\",\"0\"],\n",
    "\n",
    "    [\"1\",\"1\",\"0\",\"0\",\"0\"],\n",
    "\n",
    "    [\"0\",\"0\",\"1\",\"0\",\"0\"],\n",
    "\n",
    "    [\"0\",\"0\",\"0\",\"1\",\"1\"]\n",
    "\n",
    "]\n",
    "\n",
    "输出：3"
   ]
  },
  {
   "cell_type": "markdown",
   "metadata": {},
   "source": [
    "idea:"
   ]
  },
  {
   "cell_type": "markdown",
   "metadata": {},
   "source": [
    "**算法思路**\n",
    "\n",
    "1. **遍历网格**\n",
    "   依次扫描每个格子 `(i,j)`：\n",
    "\n",
    "   * 如果是陆地 `'1'`，说明找到了一个新岛，令岛屿计数器 `count += 1`，然后从这里开始「漫水填充」（DFS 或 BFS），把与它连通的所有陆地都标记成水 `'0'`，以免重复计数。\n",
    "   * 否则跳过已访问过的或本来就是水的格子。\n",
    "\n",
    "2. **漫水填充**\n",
    "   从当前陆地格子出发，递归（或入队）访问它上下左右四个方向的格子：\n",
    "\n",
    "   * 越界或遇到 `'0'` 则返回；\n",
    "   * 否则把格子置为 `'0'`，继续填充它的四邻。\n",
    "\n",
    "* **时间复杂度**：每个格子最多进栈/入队、访问一次，漫水填充将它的连通区域全部“淹没”后不会再重复访问，总共 $O(m \\times n)$。\n"
   ]
  },
  {
   "cell_type": "code",
   "execution_count": null,
   "metadata": {},
   "outputs": [],
   "source": [
    "\n",
    "def num_islands(grid):\n",
    "    if not grid or not grid[0]:\n",
    "        return 0\n",
    "\n",
    "    m, n = len(grid), len(grid[0])\n",
    "    count = 0\n",
    "\n",
    "    def dfs(i, j):\n",
    "        if i < 0 or i >= m or j < 0 or j >= n or grid[i][j] != '1':\n",
    "            return\n",
    "        grid[i][j] = '0'\n",
    "        dfs(i-1, j)\n",
    "        dfs(i+1, j)\n",
    "        dfs(i, j-1)\n",
    "        dfs(i, j+1)\n",
    "\n",
    "    for i in range(m):\n",
    "        for j in range(n):\n",
    "            if grid[i][j] == '1':\n",
    "                count += 1\n",
    "                dfs(i, j)\n",
    "\n",
    "    return count\n",
    "\n",
    "grid1 = [\n",
    "    [\"1\",\"1\",\"1\",\"1\",\"0\"],\n",
    "    [\"1\",\"1\",\"0\",\"1\",\"0\"],\n",
    "    [\"1\",\"1\",\"0\",\"0\",\"0\"],\n",
    "    [\"0\",\"0\",\"0\",\"0\",\"0\"]\n",
    "]\n",
    "print(num_islands(grid1))  \n",
    "\n",
    "grid2 = [\n",
    "    [\"1\",\"1\",\"0\",\"0\",\"0\"],\n",
    "    [\"1\",\"1\",\"0\",\"0\",\"0\"],\n",
    "    [\"0\",\"0\",\"1\",\"0\",\"0\"],\n",
    "    [\"0\",\"0\",\"0\",\"1\",\"1\"]\n",
    "]\n",
    "print(num_islands(grid2))  "
   ]
  },
  {
   "cell_type": "code",
   "execution_count": null,
   "metadata": {},
   "outputs": [],
   "source": []
  }
 ],
 "metadata": {
  "kernelspec": {
   "display_name": "Python [conda env:wss]",
   "language": "python",
   "name": "conda-env-wss-py"
  },
  "language_info": {
   "codemirror_mode": {
    "name": "ipython",
    "version": 3
   },
   "file_extension": ".py",
   "mimetype": "text/x-python",
   "name": "python",
   "nbconvert_exporter": "python",
   "pygments_lexer": "ipython3",
   "version": "3.6.13"
  }
 },
 "nbformat": 4,
 "nbformat_minor": 2
}
